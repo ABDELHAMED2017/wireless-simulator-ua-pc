{
 "cells": [
  {
   "cell_type": "code",
   "execution_count": 1,
   "metadata": {
    "collapsed": true
   },
   "outputs": [],
   "source": [
    "total_nb_users=10;\n",
    "nb_sectors=7;\n",
    "nb_RBs=15;\n",
    "rho = 10+rand(total_nb_users,nb_sectors,nb_RBs);"
   ]
  },
  {
   "cell_type": "code",
   "execution_count": 2,
   "metadata": {
    "collapsed": false,
    "scrolled": true
   },
   "outputs": [],
   "source": [
    "using Convex\n",
    "using GLPKMathProgInterface"
   ]
  },
  {
   "cell_type": "code",
   "execution_count": 9,
   "metadata": {
    "collapsed": false
   },
   "outputs": [],
   "source": [
    "theta = Variable(total_nb_users, nb_sectors);\n",
    "nb_users_per_sector = Variable(nb_sectors);"
   ]
  },
  {
   "cell_type": "code",
   "execution_count": 10,
   "metadata": {
    "collapsed": false
   },
   "outputs": [],
   "source": [
    "left_expr_objective = 0\n",
    "for i=1:total_nb_users\n",
    "    for j=1:nb_sectors\n",
    "        for k=1:nb_RBs\n",
    "            left_expr_objective = left_expr_objective + theta[i,j]*log(rho[i,j,k]);\n",
    "        end\n",
    "    end\n",
    "end"
   ]
  },
  {
   "cell_type": "code",
   "execution_count": 20,
   "metadata": {
    "collapsed": false
   },
   "outputs": [],
   "source": [
    "nb_users_per_sector = sum(theta,1);"
   ]
  },
  {
   "cell_type": "code",
   "execution_count": 21,
   "metadata": {
    "collapsed": false
   },
   "outputs": [],
   "source": [
    "right_expr_objective = nb_RBs * sum(entropy(nb_users_per_sector));"
   ]
  },
  {
   "cell_type": "code",
   "execution_count": 22,
   "metadata": {
    "collapsed": true
   },
   "outputs": [],
   "source": [
    "constraints = []\n",
    "constraints += sum(theta,2) == 1;\n",
    "constraints += theta>=0;\n",
    "constraints += theta<=1;"
   ]
  },
  {
   "cell_type": "code",
   "execution_count": 23,
   "metadata": {
    "collapsed": false
   },
   "outputs": [],
   "source": [
    "objective=left_expr_objective+right_expr_objective;\n",
    "problem=maximize(objective, constraints);"
   ]
  },
  {
   "cell_type": "code",
   "execution_count": 24,
   "metadata": {
    "collapsed": false
   },
   "outputs": [
    {
     "name": "stdout",
     "output_type": "stream",
     "text": [
      "----------------------------------------------------------------------------\n",
      "\tSCS v1.1.5 - Splitting Conic Solver\n",
      "\t(c) Brendan O'Donoghue, Stanford University, 2012\n",
      "----------------------------------------------------------------------------\n",
      "Lin-sys: sparse-direct, nnz in A = 365\n",
      "eps = 1.00e-04, alpha = 1.80, max_iters = 20000, normalize = 1, scale = 5.00\n",
      "Variables n = 78, constraints m = 172\n",
      "Cones:\tprimal zero / dual free vars: 11\n",
      "\tlinear vars: 140\n",
      "\texp vars: 21, dual exp vars: 0\n",
      "Setup time: 1.43e-04s\n",
      "----------------------------------------------------------------------------\n",
      " Iter | pri res | dua res | rel gap | pri obj | dua obj | kap/tau | time (s)\n",
      "----------------------------------------------------------------------------\n",
      "     0|      inf       inf       nan      -inf      -inf       inf  1.30e-04 \n",
      "   100|      inf       inf       nan      -inf      -inf       inf  8.85e-03 \n",
      "   200| 1.17e-01  3.85e-02  4.56e-04 -2.78e+02 -2.78e+02  4.08e-16  1.61e-02 \n",
      "   300| 4.41e-02  2.40e-03  1.08e-06 -3.00e+02 -3.00e+02  1.47e-16  2.15e-02 \n",
      "   400| 1.71e-02  1.03e-03  3.63e-07 -3.00e+02 -3.00e+02  1.48e-16  2.69e-02 \n",
      "   500| 6.78e-03  9.14e-04  1.27e-08 -3.00e+02 -3.00e+02  1.48e-16  3.23e-02 \n",
      "   600| 1.76e-03  5.12e-04  1.28e-08 -3.00e+02 -3.00e+02  1.48e-16  3.79e-02 \n",
      "   700| 3.97e-04  2.00e-04  2.88e-08 -3.00e+02 -3.00e+02  1.48e-16  4.45e-02 \n",
      "   800| 5.92e-04  4.58e-05  2.88e-08 -3.00e+02 -3.00e+02  1.48e-16  5.44e-02 \n",
      "   860| 9.00e-05  6.24e-05  4.14e-09 -3.00e+02 -3.00e+02  4.43e-16  5.79e-02 \n",
      "----------------------------------------------------------------------------\n",
      "Status: Solved\n",
      "Timing: Total solve time: 5.79e-02s\n",
      "\tLin-sys: nnz in L factor: 723, avg solve time: 3.67e-06s\n",
      "\tCones: avg projection time: 6.07e-05s\n",
      "----------------------------------------------------------------------------\n",
      "Error metrics:\n",
      "dist(s, K) = 5.7958e-12, dist(y, K*) = 0.0000e+00, s'y/m = 2.0969e-08\n",
      "|Ax + s - b|_2 / (1 + |b|_2) = 9.0003e-05\n",
      "|A'y + c|_2 / (1 + |c|_2) = 6.2390e-05\n",
      "|c'x + b'y| / (1 + |c'x| + |b'y|) = 4.1435e-09\n",
      "----------------------------------------------------------------------------\n",
      "c'x = -300.2750, -b'y = -300.2750\n",
      "============================================================================\n"
     ]
    }
   ],
   "source": [
    "solve!(problem)"
   ]
  },
  {
   "cell_type": "code",
   "execution_count": 25,
   "metadata": {
    "collapsed": false
   },
   "outputs": [
    {
     "data": {
      "text/plain": [
       "10x7 Array{Float64,2}:\n",
       "  5.85999e-6  7.9099e-6    9.84586e-7  …   1.0          3.99619e-6\n",
       " -2.2365e-6   0.570655    -7.11049e-6     -7.01779e-6  -4.0985e-6 \n",
       "  1.00001     7.95932e-6   1.03497e-6      1.12726e-6   4.04565e-6\n",
       "  3.3388e-6   5.38941e-6   0.135716       -1.44324e-6   1.47464e-6\n",
       "  6.5221e-6   8.57166e-6   1.64711e-6      0.43767      4.65838e-6\n",
       "  0.279793    4.82136e-6   0.290371    …  -2.01008e-6   0.429883  \n",
       "  7.10455e-6  9.15532e-6   2.23064e-6      2.32366e-6   1.00001   \n",
       "  0.147347    0.852773    -7.78101e-6     -7.68474e-6  -4.77018e-6\n",
       "  5.18532e-6  7.23608e-6   1.1572e-5       4.04454e-7   3.3214e-6 \n",
       "  3.88203e-6  5.93182e-6   0.999999       -8.99544e-7   3.25501e-5"
      ]
     },
     "execution_count": 25,
     "metadata": {},
     "output_type": "execute_result"
    }
   ],
   "source": [
    "theta.value"
   ]
  },
  {
   "cell_type": "code",
   "execution_count": null,
   "metadata": {
    "collapsed": true
   },
   "outputs": [],
   "source": []
  }
 ],
 "metadata": {
  "kernelspec": {
   "display_name": "Julia 0.3.11",
   "language": "julia",
   "name": "julia-0.3"
  },
  "language_info": {
   "name": "julia",
   "version": "0.3.11"
  }
 },
 "nbformat": 4,
 "nbformat_minor": 0
}
