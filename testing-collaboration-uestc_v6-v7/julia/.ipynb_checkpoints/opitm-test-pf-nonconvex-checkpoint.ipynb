{
 "cells": [
  {
   "cell_type": "code",
   "execution_count": 44,
   "metadata": {
    "collapsed": false
   },
   "outputs": [],
   "source": [
    "nb_users_per_sector  = 8;\n",
    "nb_sectors           = 9;\n",
    "nb_RBs               = 15;\n",
    "total_nb_users       = nb_users_per_sector * nb_sectors;\n",
    "min_power_per_RB     = 0.1;\n",
    "max_power_per_sector = 20; \n",
    "noise        = float(10)^(-20.4);\n",
    "bw         = 180e3;"
   ]
  },
  {
   "cell_type": "code",
   "execution_count": 45,
   "metadata": {
    "collapsed": true
   },
   "outputs": [],
   "source": [
    "using JuMP"
   ]
  },
  {
   "cell_type": "code",
   "execution_count": 46,
   "metadata": {
    "collapsed": false
   },
   "outputs": [],
   "source": [
    "pathloss=rand(nb_users_per_sector,nb_sectors,nb_RBs);"
   ]
  },
  {
   "cell_type": "code",
   "execution_count": 82,
   "metadata": {
    "collapsed": false
   },
   "outputs": [],
   "source": [
    "m = Model()\n",
    "@defVar(m, poweralloc[1:nb_sectors,1:nb_RBs] >= min_power_per_RB);"
   ]
  },
  {
   "cell_type": "code",
   "execution_count": 83,
   "metadata": {
    "collapsed": false
   },
   "outputs": [],
   "source": [
    "for j in 1:nb_sectors\n",
    "    for k=1:nb_RBs\n",
    "        setValue(poweralloc[j,k], 1+rand(1)[1])\n",
    "    end\n",
    "end"
   ]
  },
  {
   "cell_type": "code",
   "execution_count": 84,
   "metadata": {
    "collapsed": false
   },
   "outputs": [],
   "source": [
    "@setNLObjective(m, Max, sum{log(log(1+(poweralloc[j,k]*pathloss[i,j,k]/(bw*noise+sum{poweralloc[j_p,k]*pathloss[i,j_p,k], j_p=1:nb_sectors; j_p!=j})))), i=1:nb_users_per_sector, j=1:nb_sectors, k=1:nb_RBs})"
   ]
  },
  {
   "cell_type": "code",
   "execution_count": 85,
   "metadata": {
    "collapsed": false
   },
   "outputs": [],
   "source": [
    "for j=1:nb_sectors\n",
    "    @addConstraint(m, sum{poweralloc[j,k], k=1:nb_RBs} <=max_power_per_sector)\n",
    "end"
   ]
  },
  {
   "cell_type": "code",
   "execution_count": 86,
   "metadata": {
    "collapsed": false
   },
   "outputs": [
    {
     "name": "stdout",
     "output_type": "stream",
     "text": [
      "This is Ipopt version 3.12.1, running with linear solver mumps.\n",
      "NOTE: Other linear solvers might be more efficient (see Ipopt documentation).\n",
      "\n",
      "Number of nonzeros in equality constraint Jacobian...:        0\n",
      "Number of nonzeros in inequality constraint Jacobian.:      135\n",
      "Number of nonzeros in Lagrangian Hessian.............:      675\n",
      "\n",
      "Total number of variables............................:      135\n",
      "                     variables with only lower bounds:      135\n",
      "                variables with lower and upper bounds:        0\n",
      "                     variables with only upper bounds:        0\n",
      "Total number of equality constraints.................:        0\n",
      "Total number of inequality constraints...............:        9\n",
      "        inequality constraints with only lower bounds:        0\n",
      "   inequality constraints with lower and upper bounds:        0\n",
      "        inequality constraints with only upper bounds:        9\n",
      "\n",
      "iter    objective    inf_pr   inf_du lg(mu)  ||d||  lg(rg) alpha_du alpha_pr  ls\n",
      "   0  2.6446598e+03 3.19e+00 4.35e+00  -1.0 0.00e+00    -  0.00e+00 0.00e+00   0\n",
      "   1  2.6188893e+03 1.70e+00 5.28e+01  -1.0 3.81e+00    -  4.08e-01 4.23e-01f  1\n",
      "   2  2.6119992e+03 1.46e+00 2.64e+01  -1.0 7.61e+00    -  3.35e-01 1.04e-01f  1\n",
      "   3  2.5987782e+03 0.00e+00 1.68e+01  -1.0 2.75e+00    -  2.04e-01 9.32e-01f  1\n",
      "   4  2.5969196e+03 0.00e+00 5.69e+00  -1.0 1.71e+00    -  5.72e-01 1.00e+00f  1\n",
      "   5  2.5966617e+03 0.00e+00 2.92e+00  -1.0 8.80e-01    -  7.03e-01 1.00e+00f  1\n",
      "   6  2.5966626e+03 0.00e+00 9.59e-01  -1.0 2.46e-01    -  5.63e-01 1.00e+00f  1\n",
      "   7  2.5965227e+03 0.00e+00 2.05e-01  -1.7 4.50e-01    -  9.96e-01 1.00e+00f  1\n",
      "   8  2.5965164e+03 0.00e+00 6.15e-02  -1.7 7.15e-01    -  6.44e-01 1.00e+00f  1\n",
      "   9  2.5965081e+03 0.00e+00 1.83e-03  -2.5 1.35e-01    -  1.00e+00 1.00e+00f  1\n",
      "iter    objective    inf_pr   inf_du lg(mu)  ||d||  lg(rg) alpha_du alpha_pr  ls\n",
      "  10  2.5965079e+03 0.00e+00 1.15e-04  -3.8 2.74e-02    -  1.00e+00 1.00e+00f  1\n",
      "  11  2.5965079e+03 0.00e+00 2.00e-06  -5.7 2.40e-03    -  1.00e+00 1.00e+00f  1\n",
      "  12  2.5965079e+03 0.00e+00 3.03e-09  -8.6 2.92e-04    -  1.00e+00 1.00e+00h  1\n",
      "\n",
      "Number of Iterations....: 12\n",
      "\n",
      "                                   (scaled)                 (unscaled)\n",
      "Objective...............:   2.5965079062009204e+03    2.5965079062009204e+03\n",
      "Dual infeasibility......:   3.0341833149215836e-09    3.0341833149215836e-09\n",
      "Constraint violation....:   0.0000000000000000e+00    0.0000000000000000e+00\n",
      "Complementarity.........:   2.7124927970499518e-09    2.7124927970499518e-09\n",
      "Overall NLP error.......:   3.0341833149215836e-09    3.0341833149215836e-09\n",
      "\n",
      "\n",
      "Number of objective function evaluations             = 13\n",
      "Number of objective gradient evaluations             = 13\n",
      "Number of equality constraint evaluations            = 0\n",
      "Number of inequality constraint evaluations          = 13\n",
      "Number of equality constraint Jacobian evaluations   = 0\n",
      "Number of inequality constraint Jacobian evaluations = 13\n",
      "Number of Lagrangian Hessian evaluations             = 12\n",
      "Total CPU secs in IPOPT (w/o function evaluations)   =      0.007\n",
      "Total CPU secs in NLP function evaluations           =      0.026\n",
      "\n",
      "EXIT: Optimal Solution Found.\n"
     ]
    },
    {
     "data": {
      "text/plain": [
       ":Optimal"
      ]
     },
     "execution_count": 86,
     "metadata": {},
     "output_type": "execute_result"
    }
   ],
   "source": [
    "status = solve(m)"
   ]
  },
  {
   "cell_type": "code",
   "execution_count": 87,
   "metadata": {
    "collapsed": false
   },
   "outputs": [],
   "source": [
    "power_sol=getValue(poweralloc);"
   ]
  },
  {
   "cell_type": "code",
   "execution_count": 88,
   "metadata": {
    "collapsed": false
   },
   "outputs": [
    {
     "data": {
      "text/plain": [
       "1x1 Array{Float64,2}:\n",
       " 16.7467"
      ]
     },
     "execution_count": 88,
     "metadata": {},
     "output_type": "execute_result"
    }
   ],
   "source": [
    "sum(power_sol[4,:],2)"
   ]
  },
  {
   "cell_type": "code",
   "execution_count": null,
   "metadata": {
    "collapsed": true
   },
   "outputs": [],
   "source": []
  }
 ],
 "metadata": {
  "kernelspec": {
   "display_name": "Julia 0.3.11",
   "language": "julia",
   "name": "julia-0.3"
  },
  "language_info": {
   "name": "julia",
   "version": "0.3.11"
  }
 },
 "nbformat": 4,
 "nbformat_minor": 0
}
