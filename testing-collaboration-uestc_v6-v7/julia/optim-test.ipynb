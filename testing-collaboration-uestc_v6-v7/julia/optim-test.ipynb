{
 "cells": [
  {
   "cell_type": "code",
   "execution_count": 1,
   "metadata": {
    "collapsed": false
   },
   "outputs": [],
   "source": [
    "nb_users_per_sector  = 8;\n",
    "nb_sectors           = 9;\n",
    "nb_RBs               = 15;\n",
    "total_nb_users       = nb_users_per_sector * nb_sectors;\n",
    "min_power_per_RB     = 0.1;\n",
    "max_power_per_sector = 20; \n",
    "power_prop_coeff     = 4.7;\n",
    "power_indep_coeff    = 130;\n",
    "noise_density        = float(10)^(-20.4);\n",
    "RB_bandwidth         = 180e3;\n",
    "eta = 2;"
   ]
  },
  {
   "cell_type": "code",
   "execution_count": 2,
   "metadata": {
    "collapsed": true
   },
   "outputs": [],
   "source": [
    "using JuMP"
   ]
  },
  {
   "cell_type": "code",
   "execution_count": 3,
   "metadata": {
    "collapsed": false
   },
   "outputs": [],
   "source": [
    "pathloss_matrix=rand(total_nb_users,nb_sectors,nb_RBs);"
   ]
  },
  {
   "cell_type": "code",
   "execution_count": 4,
   "metadata": {
    "collapsed": false
   },
   "outputs": [
    {
     "data": {
      "text/latex": [
       "$$ PowerAllocationMatrix_{i,j} \\geq -2.3025850929940455 \\quad\\forall i \\in \\{1,2,\\dots,8,9\\}, j \\in \\{1,2,\\dots,14,15\\} $$"
      ],
      "text/plain": [
       "PowerAllocationMatrix[i,j] ≥ -2.3025850929940455 for all i in {1,2..8,9}, j in {1,2..14,15}"
      ]
     },
     "execution_count": 4,
     "metadata": {},
     "output_type": "execute_result"
    }
   ],
   "source": [
    "m = Model()\n",
    "@defVar(m, PowerAllocationMatrix[1:nb_sectors,1:nb_RBs] >= log(min_power_per_RB))"
   ]
  },
  {
   "cell_type": "code",
   "execution_count": 5,
   "metadata": {
    "collapsed": false
   },
   "outputs": [],
   "source": [
    "@setNLObjective(m, Max, sum{log((exp(PowerAllocationMatrix[j,k])*pathloss_matrix[i,j,k])/(RB_bandwidth*noise_density + sum{exp(PowerAllocationMatrix[j_p,k])*pathloss_matrix[i,j_p,k], j_p=1:nb_sectors; j_p != j})), i=1:nb_users_per_sector, j=1:nb_sectors, k=1:nb_RBs} - eta *(power_prop_coeff*sum{exp(PowerAllocationMatrix[j,k]), j=1:nb_sectors, k=1:nb_RBs}+nb_sectors*power_indep_coeff))"
   ]
  },
  {
   "cell_type": "code",
   "execution_count": 6,
   "metadata": {
    "collapsed": false
   },
   "outputs": [],
   "source": [
    "for j=1:nb_sectors\n",
    "    for k=1:nb_RBs\n",
    "        @addConstraint(m, PowerAllocationMatrix[j,k] >= log(min_power_per_RB))\n",
    "    end\n",
    "end\n",
    "for j=1:nb_sectors\n",
    "    @addNLConstraint(m, sum{exp(PowerAllocationMatrix[j,k]), k=1:nb_RBs} <=max_power_per_sector)\n",
    "end"
   ]
  },
  {
   "cell_type": "code",
   "execution_count": 7,
   "metadata": {
    "collapsed": false
   },
   "outputs": [
    {
     "name": "stdout",
     "output_type": "stream",
     "text": [
      "\n",
      "******************************************************************************\n",
      "This program contains Ipopt, a library for large-scale nonlinear optimization.\n",
      " Ipopt is released as open source code under the Eclipse Public License (EPL).\n",
      "         For more information visit http://projects.coin-or.org/Ipopt\n",
      "******************************************************************************\n",
      "\n",
      "This is Ipopt version 3.12.1, running with linear solver mumps.\n",
      "NOTE: Other linear solvers might be more efficient (see Ipopt documentation).\n",
      "\n",
      "Number of nonzeros in equality constraint Jacobian...:        0\n",
      "Number of nonzeros in inequality constraint Jacobian.:      270\n",
      "Number of nonzeros in Lagrangian Hessian.............:      810\n",
      "\n",
      "Total number of variables............................:      135\n",
      "                     variables with only lower bounds:      135\n",
      "                variables with lower and upper bounds:        0\n",
      "                     variables with only upper bounds:        0\n",
      "Total number of equality constraints.................:        0\n",
      "Total number of inequality constraints...............:      144\n",
      "        inequality constraints with only lower bounds:      135\n",
      "   inequality constraints with lower and upper bounds:        0\n",
      "        inequality constraints with only upper bounds:        9\n",
      "\n",
      "iter    objective    inf_pr   inf_du lg(mu)  ||d||  lg(rg) alpha_du alpha_pr  ls\n",
      "   0  6.2048821e+03 0.00e+00 7.62e+00  -1.0 0.00e+00    -  0.00e+00 0.00e+00   0\n",
      "   1  5.2449931e+03 0.00e+00 4.18e+00  -1.0 2.10e+01    -  1.91e-01 1.00e+00f  1\n",
      "   2  5.0889695e+03 0.00e+00 4.24e-01  -1.0 7.32e+00    -  1.00e+00 9.86e-01f  1\n",
      "   3  5.0674542e+03 0.00e+00 5.29e-02  -1.7 5.19e-01    -  1.00e+00 1.00e+00f  1\n",
      "   4  5.0595804e+03 0.00e+00 4.54e-02  -2.5 1.31e-01    -  1.00e+00 8.87e-01f  1\n",
      "   5  5.0580679e+03 0.00e+00 2.55e-03  -2.5 5.16e-02    -  1.00e+00 1.00e+00f  1\n",
      "   6  5.0574264e+03 0.00e+00 9.08e-04  -3.8 2.71e-02    -  1.00e+00 1.00e+00f  1\n",
      "   7  5.0573931e+03 0.00e+00 2.40e-04  -3.8 1.16e-02    -  1.00e+00 1.00e+00f  1\n",
      "   8  5.0573584e+03 0.00e+00 1.22e-04  -5.7 6.73e-03    -  1.00e+00 9.98e-01f  1\n",
      "   9  5.0573569e+03 0.00e+00 2.18e-05  -5.7 3.16e-03    -  1.00e+00 1.00e+00f  1\n",
      "iter    objective    inf_pr   inf_du lg(mu)  ||d||  lg(rg) alpha_du alpha_pr  ls\n",
      "  10  5.0573566e+03 0.00e+00 4.88e-06  -5.7 1.43e-03    -  1.00e+00 1.00e+00h  1\n",
      "  11  5.0573562e+03 0.00e+00 1.24e-06  -8.6 6.78e-04    -  1.00e+00 1.00e+00h  1\n",
      "  12  5.0573562e+03 0.00e+00 7.98e-08  -8.6 1.82e-04    -  1.00e+00 1.00e+00f  1\n",
      "  13  5.0573562e+03 0.00e+00 5.81e-10  -8.6 1.55e-05    -  1.00e+00 1.00e+00h  1\n",
      "\n",
      "Number of Iterations....: 13\n",
      "\n",
      "                                   (scaled)                 (unscaled)\n",
      "Objective...............:   5.0573562422497635e+03    5.0573562422497635e+03\n",
      "Dual infeasibility......:   5.8119935155163224e-10    5.8119935155163224e-10\n",
      "Constraint violation....:   0.0000000000000000e+00    0.0000000000000000e+00\n",
      "Complementarity.........:   3.3191748002068333e-09    3.3191748002068333e-09\n",
      "Overall NLP error.......:   3.3191748002068333e-09    3.3191748002068333e-09\n",
      "\n",
      "\n",
      "Number of objective function evaluations             = 14\n",
      "Number of objective gradient evaluations             = 14\n",
      "Number of equality constraint evaluations            = 0\n",
      "Number of inequality constraint evaluations          = 14\n",
      "Number of equality constraint Jacobian evaluations   = 0\n",
      "Number of inequality constraint Jacobian evaluations = 14\n",
      "Number of Lagrangian Hessian evaluations             = 13\n",
      "Total CPU secs in IPOPT (w/o function evaluations)   =      0.042\n",
      "Total CPU secs in NLP function evaluations           =      0.075\n",
      "\n",
      "EXIT: Optimal Solution Found.\n"
     ]
    },
    {
     "data": {
      "text/plain": [
       ":Optimal"
      ]
     },
     "execution_count": 7,
     "metadata": {},
     "output_type": "execute_result"
    }
   ],
   "source": [
    "status = solve(m)"
   ]
  },
  {
   "cell_type": "code",
   "execution_count": 12,
   "metadata": {
    "collapsed": false
   },
   "outputs": [],
   "source": [
    "log_power_sol=getValue(PowerAllocationMatrix);"
   ]
  },
  {
   "cell_type": "code",
   "execution_count": 19,
   "metadata": {
    "collapsed": false
   },
   "outputs": [],
   "source": [
    "power_sol=zeros(nb_sectors,nb_RBs);\n",
    "for j=1:nb_sectors\n",
    "    for k=1:nb_RBs\n",
    "        power_sol[j,k] = exp(log_power_sol[j,k]);\n",
    "    end\n",
    "end"
   ]
  },
  {
   "cell_type": "code",
   "execution_count": 25,
   "metadata": {
    "collapsed": false
   },
   "outputs": [
    {
     "data": {
      "text/plain": [
       "9x1 Array{Float64,2}:\n",
       " 1.55349\n",
       " 1.56777\n",
       " 1.59409\n",
       " 1.57238\n",
       " 1.60501\n",
       " 1.58142\n",
       " 1.53189\n",
       " 1.58875\n",
       " 1.63813"
      ]
     },
     "execution_count": 25,
     "metadata": {},
     "output_type": "execute_result"
    }
   ],
   "source": [
    "sum(power_sol,2)"
   ]
  },
  {
   "cell_type": "code",
   "execution_count": null,
   "metadata": {
    "collapsed": true
   },
   "outputs": [],
   "source": []
  }
 ],
 "metadata": {
  "kernelspec": {
   "display_name": "Julia 0.3.11",
   "language": "julia",
   "name": "julia-0.3"
  },
  "language_info": {
   "name": "julia",
   "version": "0.3.11"
  }
 },
 "nbformat": 4,
 "nbformat_minor": 0
}
