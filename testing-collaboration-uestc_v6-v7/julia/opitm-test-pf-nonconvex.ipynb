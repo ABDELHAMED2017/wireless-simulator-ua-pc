{
 "cells": [
  {
   "cell_type": "code",
   "execution_count": 14,
   "metadata": {
    "collapsed": false
   },
   "outputs": [],
   "source": [
    "nb_users_per_sector  = 8;\n",
    "nb_sectors           = 9;\n",
    "nb_RBs               = 25;\n",
    "total_nb_users       = nb_users_per_sector * nb_sectors;\n",
    "min_power_per_RB     = 0.1;\n",
    "max_power_per_sector = 20; \n",
    "noise        = float(10)^(-20.4);\n",
    "bw         = 180e3;"
   ]
  },
  {
   "cell_type": "code",
   "execution_count": 15,
   "metadata": {
    "collapsed": true
   },
   "outputs": [],
   "source": [
    "using JuMP"
   ]
  },
  {
   "cell_type": "code",
   "execution_count": 16,
   "metadata": {
    "collapsed": false
   },
   "outputs": [],
   "source": [
    "pathloss=rand(nb_users_per_sector,nb_sectors,nb_RBs);"
   ]
  },
  {
   "cell_type": "code",
   "execution_count": 17,
   "metadata": {
    "collapsed": false
   },
   "outputs": [],
   "source": [
    "m = Model()\n",
    "@defVar(m, poweralloc[1:nb_sectors,1:nb_RBs] >= min_power_per_RB);"
   ]
  },
  {
   "cell_type": "code",
   "execution_count": 18,
   "metadata": {
    "collapsed": false
   },
   "outputs": [],
   "source": [
    "for j in 1:nb_sectors\n",
    "    for k=1:nb_RBs\n",
    "        setValue(poweralloc[j,k], 1+rand(1)[1])\n",
    "    end\n",
    "end"
   ]
  },
  {
   "cell_type": "code",
   "execution_count": 19,
   "metadata": {
    "collapsed": false
   },
   "outputs": [],
   "source": [
    "@setNLObjective(m, Max, sum{log(log(1+(poweralloc[j,k]*pathloss[i,j,k]/(bw*noise+sum{poweralloc[j_p,k]*pathloss[i,j_p,k], j_p=1:nb_sectors; j_p!=j})))), i=1:nb_users_per_sector, j=1:nb_sectors, k=1:nb_RBs})"
   ]
  },
  {
   "cell_type": "code",
   "execution_count": 20,
   "metadata": {
    "collapsed": false
   },
   "outputs": [],
   "source": [
    "for j=1:nb_sectors\n",
    "    @addConstraint(m, sum{poweralloc[j,k], k=1:nb_RBs} <=max_power_per_sector)\n",
    "end"
   ]
  },
  {
   "cell_type": "code",
   "execution_count": 21,
   "metadata": {
    "collapsed": false
   },
   "outputs": [
    {
     "name": "stdout",
     "output_type": "stream",
     "text": [
      "This is Ipopt version 3.12.1, running with linear solver mumps.\n",
      "NOTE: Other linear solvers might be more efficient (see Ipopt documentation).\n",
      "\n",
      "Number of nonzeros in equality constraint Jacobian...:        0\n",
      "Number of nonzeros in inequality constraint Jacobian.:      225\n",
      "Number of nonzeros in Lagrangian Hessian.............:     1125\n",
      "\n",
      "Total number of variables............................:      225\n",
      "                     variables with only lower bounds:      225\n",
      "                variables with lower and upper bounds:        0\n",
      "                     variables with only upper bounds:        0\n",
      "Total number of equality constraints.................:        0\n",
      "Total number of inequality constraints...............:        9\n",
      "        inequality constraints with only lower bounds:        0\n",
      "   inequality constraints with lower and upper bounds:        0\n",
      "        inequality constraints with only upper bounds:        9\n",
      "\n",
      "iter    objective    inf_pr   inf_du lg(mu)  ||d||  lg(rg) alpha_du alpha_pr  ls\n",
      "   0  4.3893949e+03 1.87e+01 5.28e+00  -1.0 0.00e+00    -  0.00e+00 0.00e+00   0\n",
      "   1  4.3492638e+03 1.36e+01 5.25e+01  -1.0 6.45e+00    -  6.28e-01 2.65e-01f  1\n",
      "   2  4.3221738e+03 5.52e+00 4.02e+01  -1.0 4.68e+00    -  3.27e-01 5.60e-01f  1\n",
      "   3  4.3191686e+03 4.72e+00 4.39e+01  -1.0 2.39e+00    -  1.00e+00 1.37e-01h  1\n",
      "   4  4.3163228e+03 0.00e+00 1.89e+01  -1.0 1.12e+00    -  4.80e-01 1.00e+00h  1\n",
      "   5  4.3155767e+03 0.00e+00 7.56e+00  -1.0 3.15e-01    -  5.35e-01 1.00e+00f  1\n",
      "   6  4.3154701e+03 0.00e+00 3.90e+00  -1.0 1.89e-01    -  8.70e-01 1.00e+00f  1\n",
      "   7  4.3154896e+03 0.00e+00 1.65e+00  -1.0 2.63e-01    -  4.67e-01 1.00e+00f  1\n",
      "   8  4.3154788e+03 0.00e+00 9.20e-01  -1.0 2.23e-01    -  9.90e-01 1.00e+00f  1\n",
      "   9  4.3153721e+03 0.00e+00 4.49e-02  -1.7 2.50e-01    -  1.00e+00 1.00e+00f  1\n",
      "iter    objective    inf_pr   inf_du lg(mu)  ||d||  lg(rg) alpha_du alpha_pr  ls\n",
      "  10  4.3153503e+03 0.00e+00 6.67e-03  -2.5 1.78e-01    -  1.00e+00 1.00e+00f  1\n",
      "  11  4.3153499e+03 0.00e+00 6.69e-04  -3.8 2.53e-02    -  1.00e+00 1.00e+00f  1\n",
      "  12  4.3153499e+03 0.00e+00 9.14e-06  -5.7 2.78e-03    -  1.00e+00 1.00e+00f  1\n",
      "  13  4.3153499e+03 0.00e+00 1.04e-08  -8.6 2.97e-04    -  1.00e+00 1.00e+00h  1\n",
      "  14  4.3153499e+03 0.00e+00 2.23e-09  -9.0 7.88e-02    -  1.00e+00 1.00e+00h  1\n",
      "\n",
      "Number of Iterations....: 14\n",
      "\n",
      "                                   (scaled)                 (unscaled)\n",
      "Objective...............:   4.3153498645048094e+03    4.3153498645048094e+03\n",
      "Dual infeasibility......:   2.2335730681930810e-09    2.2335730681930810e-09\n",
      "Constraint violation....:   0.0000000000000000e+00    0.0000000000000000e+00\n",
      "Complementarity.........:   1.0267293627138465e-09    1.0267293627138465e-09\n",
      "Overall NLP error.......:   2.2335730681930810e-09    2.2335730681930810e-09\n",
      "\n",
      "\n",
      "Number of objective function evaluations             = 15\n",
      "Number of objective gradient evaluations             = 15\n",
      "Number of equality constraint evaluations            = 0\n",
      "Number of inequality constraint evaluations          = 15\n",
      "Number of equality constraint Jacobian evaluations   = 0\n",
      "Number of inequality constraint Jacobian evaluations = 15\n",
      "Number of Lagrangian Hessian evaluations             = 14\n",
      "Total CPU secs in IPOPT (w/o function evaluations)   =      0.012\n",
      "Total CPU secs in NLP function evaluations           =      0.059\n",
      "\n",
      "EXIT: Optimal Solution Found.\n"
     ]
    },
    {
     "data": {
      "text/plain": [
       ":Optimal"
      ]
     },
     "execution_count": 21,
     "metadata": {},
     "output_type": "execute_result"
    }
   ],
   "source": [
    "status = solve(m)"
   ]
  },
  {
   "cell_type": "code",
   "execution_count": 22,
   "metadata": {
    "collapsed": false
   },
   "outputs": [],
   "source": [
    "power_sol=getValue(poweralloc);"
   ]
  },
  {
   "cell_type": "code",
   "execution_count": 23,
   "metadata": {
    "collapsed": false
   },
   "outputs": [
    {
     "data": {
      "text/plain": [
       "1x1 Array{Float64,2}:\n",
       " 18.8611"
      ]
     },
     "execution_count": 23,
     "metadata": {},
     "output_type": "execute_result"
    }
   ],
   "source": [
    "sum(power_sol[2,:],2)"
   ]
  },
  {
   "cell_type": "code",
   "execution_count": 24,
   "metadata": {
    "collapsed": false
   },
   "outputs": [
    {
     "data": {
      "text/plain": [
       "1x25 Array{Float64,2}:\n",
       " 0.705047  0.930299  0.644469  0.740516  …  0.674128  0.583822  0.70927"
      ]
     },
     "execution_count": 24,
     "metadata": {},
     "output_type": "execute_result"
    }
   ],
   "source": [
    "power_sol[2,:]"
   ]
  },
  {
   "cell_type": "code",
   "execution_count": null,
   "metadata": {
    "collapsed": true
   },
   "outputs": [],
   "source": []
  }
 ],
 "metadata": {
  "kernelspec": {
   "display_name": "Julia 0.3.11",
   "language": "julia",
   "name": "julia-0.3"
  },
  "language_info": {
   "name": "julia",
   "version": "0.3.11"
  }
 },
 "nbformat": 4,
 "nbformat_minor": 0
}
